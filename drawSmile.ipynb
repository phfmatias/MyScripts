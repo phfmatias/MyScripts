{
 "cells": [
  {
   "cell_type": "code",
   "execution_count": 18,
   "metadata": {
    "metadata": {}
   },
   "outputs": [
    {
     "name": "stderr",
     "output_type": "stream",
     "text": [
      "/tmp/ipykernel_6346/3431973044.py:13: MatplotlibDeprecationWarning: The seaborn styles shipped by Matplotlib are deprecated since 3.6, as they no longer correspond to the styles shipped by seaborn. However, they will remain available as 'seaborn-v0_8-<style>'. Alternatively, directly use the seaborn API instead.\n",
      "  plt.style.use(\"seaborn-notebook\")\n"
     ]
    },
    {
     "name": "stdout",
     "output_type": "stream",
     "text": [
      "{122: 1, 177: 1, 204: 1, 218: 1, 378: 1, 387: 1, 577: 1, 619: 1, 675: 1, 832: 1, 837: 1, 926: 1, 935: 1, 965: 1, 987: 1, 1005: 1, 1032: 1, 1088: 1, 1113: 1, 1199: 1, 1236: 1, 1295: 1, 1352: 1, 1380: 1, 1588: 1, 1635: 1, 1640: 1, 1647: 1, 1665: 1, 1686: 1, 1708: 1, 1724: 1, 1738: 1, 1750: 1, 1800: 1, 1873: 1, 1915: 1, 1946: 1}\n"
     ]
    }
   ],
   "source": [
    "from rdkit import Chem\n",
    "from rdkit.Chem import (\n",
    "    AllChem,\n",
    "    rdCoordGen,\n",
    ")\n",
    "from rdkit.Chem import Draw\n",
    "from rdkit.Chem.Draw import IPythonConsole\n",
    "from matplotlib import pyplot as plt\n",
    "from matplotlib.patches import Rectangle\n",
    "from IPython.display import SVG\n",
    "from numpy import array\n",
    "\n",
    "plt.style.use(\"seaborn-notebook\")\n",
    "IPythonConsole.ipython_useSVG = True  \n",
    "from drawSmiles import *\n",
    "\n",
    "Molecule = Chem.MolFromSmiles('C1Cc2ccccc2N(c3ccccc13)c4ccc(N5c6ccccc6CCc7ccccc57)c8nsnc48')\n",
    "rdCoordGen.AddCoords(Molecule)\n",
    "\n",
    "Molecule\n",
    "\n",
    "info = {}\n",
    "fp = AllChem.GetMorganFingerprintAsBitVect(Molecule, radius=3, bitInfo=info, nBits=2048)\n",
    "\n",
    "fp_2 = array(fp)\n",
    "\n",
    "#create a dictionary with the bit number and the key if, key ==1\n",
    "bit_dict = {}\n",
    "\n",
    "count = 0\n",
    "for i in fp_2:\n",
    "    if i == 1:\n",
    "        bit_dict[count] = i\n",
    "        count +=1\n",
    "    else:\n",
    "        count +=1\n",
    "\n",
    "print(bit_dict)\n",
    "\n",
    "#get the first key of the dictionary\n",
    "bit_number = list(bit_dict.keys())[0]\n",
    "\n",
    "# #molecule, info, bit, size\n",
    "\n",
    "import cairosvg\n",
    "\n",
    "X = draw_molecule_and_bit_info_grid(Molecule, info, bit_number, 400)\n",
    "cairosvg.svg2png(bytestring=X.data, write_to='output.png', dpi=400)"
   ]
  },
  {
   "cell_type": "code",
   "execution_count": 2,
   "metadata": {
    "metadata": {}
   },
   "outputs": [
    {
     "name": "stdout",
     "output_type": "stream",
     "text": [
      "2022.03.3\n"
     ]
    }
   ],
   "source": [
    "#print rdkit version\n",
    "print(Chem.rdBase.rdkitVersion)"
   ]
  }
 ],
 "metadata": {
  "kernelspec": {
   "display_name": "Python 3",
   "language": "python",
   "name": "python3"
  },
  "language_info": {
   "codemirror_mode": {
    "name": "ipython",
    "version": 3
   },
   "file_extension": ".py",
   "mimetype": "text/x-python",
   "name": "python",
   "nbconvert_exporter": "python",
   "pygments_lexer": "ipython3",
   "version": "3.10.12"
  }
 },
 "nbformat": 4,
 "nbformat_minor": 2
}
